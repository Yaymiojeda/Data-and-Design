{
 "cells": [
  {
   "cell_type": "markdown",
   "metadata": {},
   "source": [
    "### Types Problems\n",
    "\n",
    "1. Create the following variables and types.  Run the cell below to check your work:\n",
    " - `a`: string\n",
    " - `b`: float\n",
    " - `c`: int\n",
    " - `d`: boolean"
   ]
  },
  {
   "cell_type": "code",
   "execution_count": 9,
   "metadata": {},
   "outputs": [],
   "source": [
    "a = ''\n",
    "b = ''\n",
    "c = ''\n",
    "d = ''"
   ]
  },
  {
   "cell_type": "code",
   "execution_count": 8,
   "metadata": {},
   "outputs": [],
   "source": [
    "assert type(a) == str\n",
    "assert type(b) == float\n",
    "assert type(c) == int\n",
    "assert type(d) == bool"
   ]
  },
  {
   "cell_type": "markdown",
   "metadata": {},
   "source": [
    "2. From Nas' *If I Ruled the World*\n",
    "\n",
    "```\n",
    "Imagine smoking weed in the streets without cops harassing\n",
    "Imagine going to court with no trial\n",
    "Lifestyle, cruising blue Bahama waters, no welfare supporters\n",
    "More conscious of the way we raise our daughters\n",
    "Days are shorter, nights are colder\n",
    "Feeling like life is over, these snakes strike like a cobra\n",
    "The world's hot, my son got knocked, evidently\n",
    "It's elementary, they want us all gone eventually\n",
    "Trooping out of state for a plate of knowledge\n",
    "If coke was cooked without the garbage\n",
    "We'd all have the top dollars\n",
    "Imagine everybody flashing, fashion, designer clothes\n",
    "Lacing your clique up with diamond Roles\n",
    "Your people holding dough, no parole, no rubbers\n",
    "Go in raw, imagine law with no undercovers\n",
    "Just some thoughts for the mind\n",
    "I take a glimpse into time\n",
    "Watch the blimp read \"The World Is Mine\"\n",
    "```\n",
    "\n",
    "- How many times did Nas say the word \"imagine\" in this verse?\n",
    "- What is the 12th word of the verse?\n",
    "- Replace \"coke\" with \"yoke\".\n",
    "- Slice every 3rd word."
   ]
  },
  {
   "cell_type": "code",
   "execution_count": 10,
   "metadata": {},
   "outputs": [],
   "source": [
    "imagine_count = ''\n",
    "twelfth_word = ''\n",
    "chicken = ''\n",
    "every_third = ''"
   ]
  },
  {
   "cell_type": "code",
   "execution_count": null,
   "metadata": {},
   "outputs": [],
   "source": []
  },
  {
   "cell_type": "markdown",
   "metadata": {},
   "source": [
    "### Dictionary\n",
    "\n",
    "3. **Favorite Songs**: Create a dictionary where the keys are your five favorite artists and the values are the accompanying records from these artists."
   ]
  },
  {
   "cell_type": "code",
   "execution_count": null,
   "metadata": {},
   "outputs": [],
   "source": []
  },
  {
   "cell_type": "code",
   "execution_count": null,
   "metadata": {},
   "outputs": [],
   "source": []
  }
 ],
 "metadata": {
  "kernelspec": {
   "display_name": "Python 3",
   "language": "python",
   "name": "python3"
  },
  "language_info": {
   "codemirror_mode": {
    "name": "ipython",
    "version": 3
   },
   "file_extension": ".py",
   "mimetype": "text/x-python",
   "name": "python",
   "nbconvert_exporter": "python",
   "pygments_lexer": "ipython3",
   "version": "3.7.4"
  }
 },
 "nbformat": 4,
 "nbformat_minor": 4
}
