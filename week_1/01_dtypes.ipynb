{
 "cells": [
  {
   "cell_type": "markdown",
   "metadata": {},
   "source": [
    "# Intro to Python"
   ]
  },
  {
   "cell_type": "code",
   "execution_count": null,
   "metadata": {},
   "outputs": [],
   "source": []
  },
  {
   "cell_type": "code",
   "execution_count": null,
   "metadata": {},
   "outputs": [],
   "source": []
  },
  {
   "cell_type": "code",
   "execution_count": null,
   "metadata": {},
   "outputs": [],
   "source": []
  },
  {
   "cell_type": "code",
   "execution_count": null,
   "metadata": {},
   "outputs": [],
   "source": []
  },
  {
   "cell_type": "code",
   "execution_count": null,
   "metadata": {},
   "outputs": [],
   "source": []
  },
  {
   "cell_type": "code",
   "execution_count": null,
   "metadata": {},
   "outputs": [],
   "source": []
  },
  {
   "cell_type": "code",
   "execution_count": null,
   "metadata": {},
   "outputs": [],
   "source": []
  },
  {
   "cell_type": "code",
   "execution_count": null,
   "metadata": {},
   "outputs": [],
   "source": []
  },
  {
   "cell_type": "code",
   "execution_count": null,
   "metadata": {},
   "outputs": [],
   "source": []
  },
  {
   "cell_type": "markdown",
   "metadata": {},
   "source": [
    "### Strings and Methods"
   ]
  },
  {
   "cell_type": "code",
   "execution_count": 1,
   "metadata": {},
   "outputs": [],
   "source": [
    "import requests"
   ]
  },
  {
   "cell_type": "code",
   "execution_count": 2,
   "metadata": {},
   "outputs": [],
   "source": [
    "r = requests.get('https://gist.githubusercontent.com/phillipj/4944029/raw/75ba2243dd5ec2875f629bf5d79f6c1e4b5a8b46/alice_in_wonderland.txt')"
   ]
  },
  {
   "cell_type": "code",
   "execution_count": 3,
   "metadata": {},
   "outputs": [],
   "source": [
    "alice = r.text"
   ]
  },
  {
   "cell_type": "code",
   "execution_count": 5,
   "metadata": {},
   "outputs": [
    {
     "name": "stdout",
     "output_type": "stream",
     "text": [
      "Alice's Adventures in Wonderland\n",
      "\n",
      "                ALICE'S ADVENTURES IN WONDERLAND\n",
      "\n",
      "                          Lewis Carroll\n",
      "\n",
      "               THE MILLENNIUM FULCRUM EDITION 3.0\n",
      "\n",
      "\n",
      "\n",
      "\n",
      "                     \n"
     ]
    }
   ],
   "source": [
    "print(alice[:200])"
   ]
  },
  {
   "cell_type": "code",
   "execution_count": 6,
   "metadata": {},
   "outputs": [
    {
     "data": {
      "text/plain": [
       "str"
      ]
     },
     "execution_count": 6,
     "metadata": {},
     "output_type": "execute_result"
    }
   ],
   "source": [
    "type(alice)"
   ]
  },
  {
   "cell_type": "code",
   "execution_count": null,
   "metadata": {},
   "outputs": [],
   "source": []
  },
  {
   "cell_type": "code",
   "execution_count": null,
   "metadata": {},
   "outputs": [],
   "source": []
  },
  {
   "cell_type": "code",
   "execution_count": null,
   "metadata": {},
   "outputs": [],
   "source": []
  },
  {
   "cell_type": "code",
   "execution_count": null,
   "metadata": {},
   "outputs": [],
   "source": []
  },
  {
   "cell_type": "code",
   "execution_count": null,
   "metadata": {},
   "outputs": [],
   "source": []
  },
  {
   "cell_type": "code",
   "execution_count": null,
   "metadata": {},
   "outputs": [],
   "source": []
  },
  {
   "cell_type": "code",
   "execution_count": 29,
   "metadata": {},
   "outputs": [],
   "source": [
    "words = alice.split()"
   ]
  },
  {
   "cell_type": "code",
   "execution_count": 30,
   "metadata": {},
   "outputs": [
    {
     "data": {
      "text/plain": [
       "\"Alice's\""
      ]
     },
     "execution_count": 30,
     "metadata": {},
     "output_type": "execute_result"
    }
   ],
   "source": [
    "words[0]"
   ]
  },
  {
   "cell_type": "code",
   "execution_count": 31,
   "metadata": {},
   "outputs": [
    {
     "data": {
      "text/plain": [
       "[\"Alice's\",\n",
       " 'Adventures',\n",
       " 'in',\n",
       " 'Wonderland',\n",
       " \"ALICE'S\",\n",
       " 'ADVENTURES',\n",
       " 'IN',\n",
       " 'WONDERLAND',\n",
       " 'Lewis',\n",
       " 'Carroll']"
      ]
     },
     "execution_count": 31,
     "metadata": {},
     "output_type": "execute_result"
    }
   ],
   "source": [
    "words[:10]"
   ]
  },
  {
   "cell_type": "code",
   "execution_count": 32,
   "metadata": {},
   "outputs": [
    {
     "data": {
      "text/plain": [
       "26470"
      ]
     },
     "execution_count": 32,
     "metadata": {},
     "output_type": "execute_result"
    }
   ],
   "source": [
    "len(words)"
   ]
  },
  {
   "cell_type": "code",
   "execution_count": 33,
   "metadata": {},
   "outputs": [],
   "source": [
    "unique_words = set(words)"
   ]
  },
  {
   "cell_type": "code",
   "execution_count": 34,
   "metadata": {},
   "outputs": [
    {
     "data": {
      "text/plain": [
       "5307"
      ]
     },
     "execution_count": 34,
     "metadata": {},
     "output_type": "execute_result"
    }
   ],
   "source": [
    "len(unique_words)"
   ]
  },
  {
   "cell_type": "code",
   "execution_count": 35,
   "metadata": {},
   "outputs": [],
   "source": [
    "lexical_diversity = len(unique_words)/len(words)"
   ]
  },
  {
   "cell_type": "code",
   "execution_count": 36,
   "metadata": {},
   "outputs": [
    {
     "name": "stdout",
     "output_type": "stream",
     "text": [
      "The lexical diversity is 0.20049112202493388\n"
     ]
    }
   ],
   "source": [
    "print(f'The lexical diversity is {lexical_diversity}')"
   ]
  },
  {
   "cell_type": "markdown",
   "metadata": {},
   "source": [
    "### Problem: Drake\n",
    "\n",
    "<center>\n",
    "    <img src = https://cdn.vox-cdn.com/thumbor/7SKoV9-tOn9XQXZIwwrZoDKU96A=/0x0:3200x1800/1200x800/filters:focal(1344x644:1856x1156)/cdn.vox-cdn.com/uploads/chorus_image/image/60257237/drake.0.png width = 50%/>\n",
    "    </center>"
   ]
  },
  {
   "cell_type": "code",
   "execution_count": 37,
   "metadata": {},
   "outputs": [],
   "source": [
    "gods_plan = '''\n",
    "Yeah, they wishin' and wishin' and wishin' and wishin'\n",
    "They wishin' on me\n",
    "\n",
    "I been movin' calm, don't start no trouble with me\n",
    "Tryna keep it peaceful is a struggle for me\n",
    "Don't pull up at 6 AM to cuddle with me\n",
    "You know how I like it when you lovin' on me\n",
    "I don't wanna die for them to miss me\n",
    "Yes, I see the things that they wishin' on me\n",
    "Hope I got some brothers that outlive me\n",
    "They gon' tell the story, shit was different with me\n",
    "\n",
    "God's plan, God's plan\n",
    "I hold back, sometimes I won't (yeah)\n",
    "I feel good, sometimes I don't, ayy, don't\n",
    "I finessed down Weston Road, ayy, 'nessed\n",
    "Might go down a G.O.D., yeah, wait\n",
    "I go hard on Southside G, (yeah, wait)\n",
    "I make sure that north-side eat\n",
    "\n",
    "And still\n",
    "Bad things\n",
    "It's a lot of bad things\n",
    "That they wishin' and wishin' and wishin' and wishin'\n",
    "They wishin' on me\n",
    "Bad things\n",
    "It's a lot of bad things\n",
    "That they wishin' and wishin' and wishin' and wishin'\n",
    "They wishin' on me\n",
    "Yuh, ayy, ayy\n",
    "\n",
    "She said, \"Do you love me?\" I tell her, \"Only partly\"\n",
    "I only love my bed and my momma, I'm sorry\n",
    "Fifty Dub, I even got it tatted on me\n",
    "81, they'll bring the crashers to the party\n",
    "And you know me\n",
    "Turn the O2 into the O3, dog\n",
    "Without 40, Oli, there would be no me\n",
    "Imagine if I never met the broskies\n",
    "\n",
    "God's plan, God's plan\n",
    "I can't do this on my own, ayy, no, ayy\n",
    "Someone watchin' this shit close, yep, close\n",
    "I've been me since Scarlett Road, ayy, road, ayy\n",
    "Might go down as G.O.D., yeah, wait\n",
    "I go hard on Southside G, ayy, wait\n",
    "I make sure that north-side eat\n",
    "And still\n",
    "\n",
    "Bad things\n",
    "It's a lot of bad things\n",
    "That they wishin' and wishin' and wishin' and wishin'\n",
    "They wishin' on me\n",
    "Yeah, yeah\n",
    "Bad things\n",
    "It's a lot of bad things\n",
    "That they wishin' and wishin' and wishin' and wishin'\n",
    "They wishin' on me\n",
    "Yeah\n",
    "'''"
   ]
  },
  {
   "cell_type": "code",
   "execution_count": 38,
   "metadata": {},
   "outputs": [
    {
     "data": {
      "text/plain": [
       "str"
      ]
     },
     "execution_count": 38,
     "metadata": {},
     "output_type": "execute_result"
    }
   ],
   "source": [
    "type(gods_plan)"
   ]
  }
 ],
 "metadata": {
  "kernelspec": {
   "display_name": "Python 3",
   "language": "python",
   "name": "python3"
  },
  "language_info": {
   "codemirror_mode": {
    "name": "ipython",
    "version": 3
   },
   "file_extension": ".py",
   "mimetype": "text/x-python",
   "name": "python",
   "nbconvert_exporter": "python",
   "pygments_lexer": "ipython3",
   "version": "3.7.4"
  }
 },
 "nbformat": 4,
 "nbformat_minor": 4
}
